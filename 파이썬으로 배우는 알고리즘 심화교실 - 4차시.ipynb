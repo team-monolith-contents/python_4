{
 "cells": [
  {
   "cell_type": "markdown",
   "id": "2d8dd860-f8a8-4819-901a-4b8415fc85f2",
   "metadata": {
    "tags": []
   },
   "source": [
    "<div style=\"padding: 15px; border: 5px solid transparent; border-color: transparent; margin-bottom: 20px; border-radius: 4px; color: #3c763d; background-color: #dff0d8; border-color: #d6e9c6; font-weight: bold;\">\n",
    "    <br><br>\n",
    "    <div style=\"font-weight: bold; font-size: 40px\">파이썬으로 배우는 알고리즘 심화교실</div>\n",
    "    <div style=\"font-weight: bold; font-size: 20px\">(4) 데이터를 관리하는 강력한 도구: 리스트</div>\n",
    "    <hr style=\"width:80%;text-align:left;margin-left:0;border:0.5px solid green\">\n",
    "    <br>\n",
    "    &#x2022; 파이썬의 리스트에 대해 이해한다.<br>\n",
    "    &#x2022; 파이썬에서 리스트에 사용할 수 잇는 다양한 함수를 이해한다.<br>\n",
    "    &#x2022; 숫자 야구 게임에서 입력된 정답 데이터들을 저장합니다. <br>\n",
    "</div>"
   ]
  },
  {
   "cell_type": "markdown",
   "id": "49c5bf94-8b07-4de2-87b5-92ce3989c1c1",
   "metadata": {
    "tags": []
   },
   "source": [
    "<div style=\"padding: 15px; border: 5px solid transparent; border-color: transparent; margin-bottom: 20px; border-radius: 4px; color: #3c763d; border-color: #d6e9c6; font-weight: bold;\">\n",
    "<h2 style='font-weight: bold'>1. 리스트</h2>\n",
    "</div> "
   ]
  },
  {
   "cell_type": "markdown",
   "id": "6f4b9eb9-22e5-484f-aec4-7bc8944bc805",
   "metadata": {
    "tags": []
   },
   "source": [
    "### 리스트 만들기"
   ]
  },
  {
   "cell_type": "markdown",
   "id": "69eaa608-9972-4125-9f6b-676d6e0230a9",
   "metadata": {},
   "source": [
    "프로그래밍을 하다보면 여러개의 변수를 관리해야 할 경우가 있습니다.<br>\n",
    "변수의 개수가 적을 때에는 하나하나 변수를 만들어서 관리해도 되지만 변수의 개수가 많아지면(1000, 2000, ...등) 하나하나 관리하기 힘들어집니다.<br>\n",
    "리스트(list)는 이 때에 사용하는 데이터구조입니다.<br>\n",
    "\n",
    "리스트는 여러 개의 항목을 하나의 변수에 저장할 수 있는 데이터 구조입니다.<br>\n",
    "\n",
    "리스트는 대괄호([])를 사용하여 만들 수 있으며 각각의 항목은 쉼표(,)로 구분하여 나열됩니다.\n",
    "\n",
    "```python\n",
    "# 비어있는 리스트 생성\n",
    "empty_list = []\n",
    "# 숫자로 이루어진 리스트 생성\n",
    "numbers = [1, 2, 3, 4, 5]\n",
    "# 문자열로 이루어진 리스트 생성\n",
    "fruits = ['apple', 'banana', 'orange']\n",
    "# 혼합 데이터 타입으로 이루어진 리스트 생성\n",
    "mixed_list = [1, 'hello', 3.14, True]\n",
    "```"
   ]
  },
  {
   "cell_type": "markdown",
   "id": "9e24cacd-737d-4d02-b43c-3175e0cc08e8",
   "metadata": {},
   "source": [
    "**예제 1 : 리스트 만들기**"
   ]
  },
  {
   "cell_type": "code",
   "execution_count": null,
   "id": "8226aea9-02d0-4129-bf8a-78a2ea29cd3c",
   "metadata": {
    "tags": []
   },
   "outputs": [],
   "source": [
    "# 예제_1_리스트_만들기\n",
    "\n",
    "# 비어있는 리스트 생성\n",
    "empty_list = []\n",
    "print(empty_list)\n",
    "\n",
    "# 숫자로 이루어진 리스트 생성\n",
    "numbers = [1, 2, 3, 4, 5]\n",
    "print(numbers)\n",
    "\n",
    "# 문자열로 이루어진 리스트 생성\n",
    "fruits = ['apple', 'banana', 'orange']\n",
    "print(fruits)\n",
    "\n",
    "# 혼합 데이터 타입으로 이루어진 리스트 생성\n",
    "mixed_list = [1, 'hello', 3.14, True]\n",
    "print(mixed_list)"
   ]
  },
  {
   "cell_type": "markdown",
   "id": "846d5ec2-f85d-44d2-9616-b1bdb0bd7a9b",
   "metadata": {
    "tags": []
   },
   "source": [
    "### 리스트의 요소에 접근하기"
   ]
  },
  {
   "cell_type": "markdown",
   "id": "560a9338-2abb-4479-a6fd-66dc3170496b",
   "metadata": {},
   "source": [
    "리스트에 저장된 각각의 요소들에 접근해 변수처럼 사용할 수 있습니다.<br>\n",
    "리스트의 요소에 접근하기 위해서는 리스트의 이름뒤에 대괄호를 붙이고 대괄호 안에 각 요소의 인덱스를 지정하면 됩니다.<br>\n",
    "`리스트이름[인덱스]`의 형태로요.<br>\n",
    "\n",
    "```python\n",
    "a = [5,19,3,30,4]\n",
    "print(a[0]) # 5\n",
    "print(a[2]) # 3\n",
    "```"
   ]
  },
  {
   "cell_type": "markdown",
   "id": "cfd43a39-1b4c-4077-8eac-70f92e377bcc",
   "metadata": {},
   "source": [
    "<div style=\"padding: 15px; border: 5px solid transparent; border-color: transparent; margin-bottom: 20px; border-radius: 4px; color: #31708f; border-color: #bce8f1;\">\n",
    "    <div style=\"font-weight: bold; font-size: 20px\">📌 TIP</div>\n",
    "    인덱스가 무엇인가요?<br>\n",
    "    &#x2022; 인덱스는 데이터 구조에서 항목들의 위치를 나타내는 숫자입니다.<br>\n",
    "    &#x2022; 파이썬에서 인덱스는 0부터 시작합니다.(첫 번째 항목은 항상 인덱스 0을 가집니다.)\n",
    "</div>"
   ]
  },
  {
   "cell_type": "markdown",
   "id": "5bd91d01-5a5b-46e7-8885-456673b288d4",
   "metadata": {},
   "source": [
    "<div style=\"padding: 15px; border: 5px solid transparent; border-color: transparent; margin-bottom: 20px; border-radius: 4px; color: #a94442; border-color: #ebccd1;\">\n",
    "    <div style=\"font-weight: bold; font-size: 20px\">💣 자주만나는 오류</div>\n",
    "인덱스 범위를 넘어선 번호로 리스트의 요소에 접근을 시도한다면 'list index out of range' 오류가 발생합니다.<br>\n",
    "예를 들어 인덱스가 3까지밖에 없는 리스트에 list[4]와 같은 명령을 하면 오류가 발생합니다.\n",
    "</div>"
   ]
  },
  {
   "cell_type": "markdown",
   "id": "62e23210-f242-491d-8e26-35b88866164c",
   "metadata": {},
   "source": [
    "**예제 2 : 리스트 요소에 접근하기**"
   ]
  },
  {
   "cell_type": "code",
   "execution_count": null,
   "id": "20e2c531-5052-4655-98ec-6c9e3c45c8bc",
   "metadata": {
    "tags": []
   },
   "outputs": [],
   "source": [
    "# 예제_2_리스트_요소에_접근하기\n",
    "\n",
    "a = [5,19,3,30,4]\n",
    "print(a[0]) # 5\n",
    "print(a[2]) # 3"
   ]
  },
  {
   "cell_type": "markdown",
   "id": "c170bbcb-39e0-4b6b-81e1-5d031498a4f0",
   "metadata": {},
   "source": [
    "**예제 3 리스트 요소에 접근하기2(오류)**"
   ]
  },
  {
   "cell_type": "code",
   "execution_count": null,
   "id": "d4691e4e-fc0e-46bf-99a3-bf155ed73a68",
   "metadata": {
    "error_code": "# 예제_2_리스트_요소에_접근하기\n\na = [5,19,3,30,4]\nprint(a[5]) # 인덱스가 4까지 밖에 없는 리스트에서 5에 접근",
    "tags": []
   },
   "outputs": [],
   "source": [
    "# 예제_3_리스트_요소에_접근하기2(오류)\n",
    "\n",
    "a = [5,19,3,30,4]\n",
    "print(a[5]) # 인덱스가 4까지 밖에 없는 리스트에서 5에 접근"
   ]
  },
  {
   "cell_type": "markdown",
   "id": "ba4d833b-1f38-4930-b9b1-f1dd42a26faf",
   "metadata": {
    "tags": []
   },
   "source": [
    "### 리스트 수정하기"
   ]
  },
  {
   "cell_type": "markdown",
   "id": "36922291-33b8-4463-b7d2-2a46cf7b0eb9",
   "metadata": {},
   "source": [
    "변수의 값을 수정하는 것과 동일한 방법으로 리스트 요소의 값을 수정할 수 있습니다.<br>\n",
    "`리스트의 요소 = 값` 의 방법으로 리스트를 수정할 수 있습니다.<br>\n",
    "리스트 a의 인덱스가 3인 요소를 수정하고 싶으면 다음의 코드를 사용할 수 있습니다.<br>\n",
    "따라서 해당 코드를 실행하면 리스트 a는 [5,19,3,30,4] 에서 [5,19,3,10,4] 으로 수정됩니다.\n",
    "\n",
    "```python\n",
    "a = [5,19,3,30,4]\n",
    "a[3] = 10 # 리스트 a의 3번째 요소 수정\n",
    "print(a)\n",
    "```"
   ]
  },
  {
   "cell_type": "markdown",
   "id": "bec32bcd-ffd8-490f-a287-cc62c42a7119",
   "metadata": {},
   "source": [
    "**예제 4 : 리스트 요소 수정**"
   ]
  },
  {
   "cell_type": "code",
   "execution_count": 6,
   "id": "86a3e2f3-0077-4cba-aa96-7bd9e9afd914",
   "metadata": {
    "tags": []
   },
   "outputs": [
    {
     "name": "stdout",
     "output_type": "stream",
     "text": [
      "[5, 19, 3, 10, 4]\n"
     ]
    }
   ],
   "source": [
    "# 예제_4_리스트_요소_수정\n",
    "\n",
    "a = [5,19,3,30,4]\n",
    "a[3] = 10 # 리스트 a의 인덱스 3의 요소 수정\n",
    "print(a)"
   ]
  },
  {
   "cell_type": "markdown",
   "id": "2252b924-4352-4ca3-b9ef-e1c5690a1482",
   "metadata": {
    "tags": []
   },
   "source": [
    "### 리스트 슬라이싱"
   ]
  },
  {
   "cell_type": "markdown",
   "id": "4152e31b-cbbb-427d-8be5-11d9a4b7281b",
   "metadata": {},
   "source": [
    "리스트의 슬라이싱(slicing)은 리스트에서 일부분을 잘라내는 것으로, 인덱스 범위를 지정하여 원하는 부분을 추출할 수 있습니다.<br>\n",
    "`리스트 이름[시작 인덱스:끝 인덱스]`<br>\n",
    "\n",
    "예를들어 아래의 예시에서는 a 리스트의 인덱스 1부터 3 이전의 요소들을 잘라내므로 인덱스1, 인덱스2에 해당하는 요소들이 추출됩니다.<br>\n",
    "따라서 [19,3] 이 추출됩니다.<br>\n",
    "\n",
    "```python\n",
    "a = [5,19,3,30,4]\n",
    "print(a[1:3]) # 리스트 a의 1인덱스 요소 부터, 3 인덱스 이전의 요소들\n",
    "```"
   ]
  },
  {
   "cell_type": "markdown",
   "id": "48a01a9e-ca3f-4d89-8c44-003300203d8c",
   "metadata": {},
   "source": [
    "**예제 5 : 리스트 슬라이싱**"
   ]
  },
  {
   "cell_type": "code",
   "execution_count": 7,
   "id": "b5a07bae-5891-430a-806f-a9080062f8c8",
   "metadata": {
    "tags": []
   },
   "outputs": [
    {
     "name": "stdout",
     "output_type": "stream",
     "text": [
      "[19, 3]\n"
     ]
    }
   ],
   "source": [
    "# 예제_5_리스트_슬라이싱\n",
    "\n",
    "a = [5,19,3,30,4]\n",
    "print(a[1:3]) # 리스트 a의 1인덱스 요소 부터, 3 인덱스 이전의 요소들"
   ]
  },
  {
   "cell_type": "markdown",
   "id": "2e239a85-fe9b-4b7b-9022-e5170987fb4b",
   "metadata": {},
   "source": [
    "<div style=\"padding: 15px; border: 5px solid transparent; border-color: transparent; margin-bottom: 20px; border-radius: 4px; color: #8a6d3b;  border-color: #faebcc;\">\n",
    "    <div style=\"font-weight: bold; font-size: 20px\">💯 연습문제를 풀어봅시다</div>\n",
    "    <br>\n",
    "    <a class=\"jcecodle-mk jcecodle-mk__problem-chip\" data-problem-id=\"209\" href='#jce-judge/open/209' target='_self'><span>List 기본 문제 1</span></a>\n",
    "    <a class=\"jcecodle-mk jcecodle-mk__problem-chip\" data-problem-id=\"nfLXO300pZk\" href='#jce-judge/open/nfLXO300pZk' target='_self'><span>리스트 값 수정1</span></a>\n",
    "    <a class=\"jcecodle-mk jcecodle-mk__problem-chip\" data-problem-id=\"h1VA4gseizw\" href='#jce-judge/open/h1VA4gseizw' target='_self'><span>리스트 값 수정2</span></a>\n",
    "    \n",
    "\n",
    "\n",
    "</div>"
   ]
  },
  {
   "cell_type": "markdown",
   "id": "0f1c78d1-98cb-4620-95a0-91a092af58e0",
   "metadata": {
    "tags": []
   },
   "source": [
    "<div style=\"padding: 15px; border: 5px solid transparent; border-color: transparent; margin-bottom: 20px; border-radius: 4px; color: #3c763d; border-color: #d6e9c6; font-weight: bold;\">\n",
    "<h2 style='font-weight: bold'>2. 리스트 메소드</h2>\n",
    "</div> "
   ]
  },
  {
   "cell_type": "markdown",
   "id": "54e03bc9-d5fd-45c8-a02a-2af96ffb6496",
   "metadata": {},
   "source": [
    "리스트는 여러 메소드(특정 객체에 속함 함수)를 사용해 리스트를 수정하고 관리할 수 있습니다.  "
   ]
  },
  {
   "cell_type": "markdown",
   "id": "c8e03d29-95d1-476b-919f-a63ed4012c07",
   "metadata": {
    "tags": []
   },
   "source": [
    "### 항목 추가"
   ]
  },
  {
   "cell_type": "markdown",
   "id": "eef8c511-e499-4dd4-b272-823b7ddde339",
   "metadata": {},
   "source": [
    "`append()` 메소드를 사용하면 리스트의 끝에 새로운 항목을 추가할 수 있습니다.<br>\n",
    "`리스트이름.append(추가하고 싶은 데이터)`의 방법으로 사용할 수 있습니다.\n",
    "\n",
    "```python\n",
    "numbers = [1, 2, 3]\n",
    "numbers.append(4)\n",
    "print(numbers)  # 출력: [1, 2, 3, 4]\n",
    "```\n",
    "\n",
    "`insert()` 메소드를 사용하면 원하는 인덱스에 새로운 항목을 추가할 수 있습니다.<br>\n",
    "`리스트이름.insert(추가할 인덱스, 추가하고 싶은 데이터)`의 방법으로 사용할 수 있습니다.\n",
    "\n",
    "```python\n",
    "numbers = [1, 2, 3]\n",
    "numbers.insert(1, 10)\n",
    "print(numbers)  # 출력: [1, 10, 2, 3]\n",
    "```"
   ]
  },
  {
   "cell_type": "markdown",
   "id": "97d18a0a-8508-4ed2-bd92-18362aab3356",
   "metadata": {},
   "source": [
    "**예제 6 : append 메소드 사용**"
   ]
  },
  {
   "cell_type": "code",
   "execution_count": 10,
   "id": "b34ca817-3b01-4ac1-89f2-280c58146ab5",
   "metadata": {
    "tags": []
   },
   "outputs": [
    {
     "name": "stdout",
     "output_type": "stream",
     "text": [
      "[1, 2, 3, 4]\n"
     ]
    }
   ],
   "source": [
    "# 예제_6_append_메소드_사용\n",
    "\n",
    "numbers = [1, 2, 3]\n",
    "numbers.append(4)\n",
    "print(numbers)  # 출력: [1, 2, 3, 4]"
   ]
  },
  {
   "cell_type": "markdown",
   "id": "a22980f6-df3c-4fa0-b88d-9f97d759b45c",
   "metadata": {},
   "source": [
    "**예제 7 : insert 메소드 사용**"
   ]
  },
  {
   "cell_type": "code",
   "execution_count": 9,
   "id": "b2f870d5-662c-4257-89c1-eeb9a05d9469",
   "metadata": {
    "tags": []
   },
   "outputs": [
    {
     "name": "stdout",
     "output_type": "stream",
     "text": [
      "[1, 10, 2, 3]\n"
     ]
    }
   ],
   "source": [
    "# 예제_7_insert_메소드_사용\n",
    "\n",
    "numbers = [1, 2, 3]\n",
    "numbers.insert(1, 10)\n",
    "print(numbers)  # 출력: [1, 10, 2, 3]"
   ]
  },
  {
   "cell_type": "markdown",
   "id": "37a951f0-3913-4f0d-8bd5-20ecb5d527ff",
   "metadata": {
    "tags": []
   },
   "source": [
    "### 항목 제거"
   ]
  },
  {
   "cell_type": "markdown",
   "id": "b75fa04d-8090-4ee7-a6f9-84d61ea7e7ba",
   "metadata": {},
   "source": [
    "`remove()` 메소드를 사용하면 리스트에서 첫 번째로 발견되는 특정 항목을 제거합니다.<br>\n",
    "`리스트이름.remove(삭제하고 싶은 데이터)`의 방법으로 사용할 수 있습니다.\n",
    "\n",
    "```python\n",
    "fruits = ['apple', 'banana', 'orange', 'apple']\n",
    "fruits.remove('apple')\n",
    "print(fruits)  # 출력: ['banana', 'orange', 'apple']\n",
    "```\n",
    "\n",
    "`pop()` 메소드를 사용하면 리스트에서 특정 인덱스의 항목을 제거하고 반환합니다.<br>\n",
    "인덱스를 지정하지 않으면 마지막 항목을 제거합니다.<br>\n",
    "`리스트이름.pop(제거할 인덱스)`의 방법으로 사용할 수 있습니다.\n",
    "\n",
    "```python\n",
    "numbers = [1, 2, 3, 4, 5]\n",
    "popped_item = numbers.pop(2)\n",
    "print(popped_item)  # 출력: 3\n",
    "print(numbers)  # 출력: [1, 2, 4, 5]\n",
    "```"
   ]
  },
  {
   "cell_type": "markdown",
   "id": "0a013a18-2dcb-4745-8e53-0dbbce486b20",
   "metadata": {},
   "source": [
    "**예제 8 : remove 메소드 사용**"
   ]
  },
  {
   "cell_type": "code",
   "execution_count": 11,
   "id": "07ccf7ce-6a55-464d-9e46-8e667de53d3c",
   "metadata": {
    "tags": []
   },
   "outputs": [
    {
     "name": "stdout",
     "output_type": "stream",
     "text": [
      "['banana', 'orange', 'apple']\n"
     ]
    }
   ],
   "source": [
    "# 예제_8_remove_메소드_사용\n",
    "\n",
    "fruits = ['apple', 'banana', 'orange', 'apple']\n",
    "fruits.remove('apple')\n",
    "print(fruits)  # 출력: ['banana', 'orange', 'apple']"
   ]
  },
  {
   "cell_type": "markdown",
   "id": "23a5cf27-3bff-41b7-9726-08d0e2bb4b48",
   "metadata": {},
   "source": [
    "**예제 9 : pop 메소드 사용**"
   ]
  },
  {
   "cell_type": "code",
   "execution_count": 12,
   "id": "8b83c736-6182-45a5-b4ba-7444f69bb48c",
   "metadata": {
    "tags": []
   },
   "outputs": [
    {
     "name": "stdout",
     "output_type": "stream",
     "text": [
      "3\n",
      "[1, 2, 4, 5]\n"
     ]
    }
   ],
   "source": [
    "# 예제_9_pop_메소드_사용\n",
    "\n",
    "numbers = [1, 2, 3, 4, 5]\n",
    "popped_item = numbers.pop(2)\n",
    "print(popped_item)  # 출력: 3\n",
    "print(numbers)  # 출력: [1, 2, 4, 5]"
   ]
  },
  {
   "cell_type": "markdown",
   "id": "583f8bb7-ab92-4890-bd4e-1fd9bf4a8c90",
   "metadata": {
    "tags": []
   },
   "source": [
    "### 정렬"
   ]
  },
  {
   "cell_type": "markdown",
   "id": "f766b55e-88c8-4cdf-bd53-9638cdcf26f8",
   "metadata": {},
   "source": [
    "`sort()` 리스트의 항목들을 오름차순으로 정렬합니다.<br>\n",
    "`리스트이름.sort()`의 방법으로 사용할 수 있습니다.<br>\n",
    "문자열은 사전순으로 정렬됩니다.<br>\n",
    "내림차순으로 정렬하고 싶으면 `리스트이름.sort(reverse = True)`를 사용할 수 있습니다.<br>\n",
    "\n",
    "\n",
    "```python\n",
    "numbers = [3, 1, 4, 2]\n",
    "numbers.sort()  # 오름차순으로 정렬\n",
    "print(numbers)  # 출력: [1, 2, 3, 4]\n",
    "numbers.sort(reverse=True)  # 내림차순으로 정렬\n",
    "print(numbers)  # 출력: [4, 3, 2, 1]\n",
    "```"
   ]
  },
  {
   "cell_type": "markdown",
   "id": "fa2e9a05-8044-408b-a1a6-74b15f5f9110",
   "metadata": {},
   "source": [
    "**예제 10 : sort 메소드 사용**"
   ]
  },
  {
   "cell_type": "code",
   "execution_count": 13,
   "id": "54fcc279-7032-4403-a667-aea8fe51e5a8",
   "metadata": {
    "tags": []
   },
   "outputs": [
    {
     "name": "stdout",
     "output_type": "stream",
     "text": [
      "[1, 2, 3, 4]\n",
      "[4, 3, 2, 1]\n"
     ]
    }
   ],
   "source": [
    "# 예제_10_sort_메소드_사용\n",
    "\n",
    "numbers = [3, 1, 4, 2]\n",
    "numbers.sort()  # 오름차순으로 정렬\n",
    "print(numbers)  # 출력: [1, 2, 3, 4]\n",
    "numbers.sort(reverse=True)  # 내림차순으로 정렬\n",
    "print(numbers)  # 출력: [4, 3, 2, 1]"
   ]
  },
  {
   "cell_type": "markdown",
   "id": "2afad266-ce8a-46ae-8171-3d40e82f90d7",
   "metadata": {},
   "source": [
    "<div style=\"padding: 15px; border: 5px solid transparent; border-color: transparent; margin-bottom: 20px; border-radius: 4px; color: #31708f; border-color: #bce8f1;\">\n",
    "    <div style=\"font-weight: bold; font-size: 20px\">📌 TIP</div>\n",
    "    앞서 언급된 메소드들은 모두 리스트 자체를 바꾸는 메소드들입니다.<br>\n",
    "    즉, a.sort() 코드가 실행되면 a에 결과값을 대입하지 않아도 a 리스트 자체가 바뀐다는 뜻입니다.<br>\n",
    "    a = a.sort()는 잘못된 코드입니다.\n",
    "</div>"
   ]
  },
  {
   "cell_type": "markdown",
   "id": "b0ceef3d-22ee-46d9-abfd-5e1d5c6efed8",
   "metadata": {},
   "source": [
    "<div style=\"padding: 15px; border: 5px solid transparent; border-color: transparent; margin-bottom: 20px; border-radius: 4px; color: #8a6d3b;  border-color: #faebcc;\">\n",
    "    <div style=\"font-weight: bold; font-size: 20px\">💯 연습문제를 풀어봅시다</div>\n",
    "    <br>\n",
    "    <a class=\"jcecodle-mk jcecodle-mk__problem-chip\" data-problem-id=\"210\" href='#jce-judge/open/210' target='_self'><span>List 기본 문제 2 (최대값 출력하기)</span></a>\n",
    "    <a class=\"jcecodle-mk jcecodle-mk__problem-chip\" data-problem-id=\"211\" href='#jce-judge/open/211' target='_self'><span>List 기본 문제 3 (최대값, 최소값 합 구하기)</span></a>\n",
    "    <a class=\"jcecodle-mk jcecodle-mk__problem-chip\" data-problem-id=\"EU_b0eQHdI4\" href='#jce-judge/open/EU_b0eQHdI4' target='_self'><span>커트라인 점수1</span></a>\n",
    "    <a class=\"jcecodle-mk jcecodle-mk__problem-chip\" data-problem-id=\"UhX6qQG_q7M\" href='#jce-judge/open/UhX6qQG_q7M' target='_self'><span>커트라인 점수2</span></a>\n",
    "</div>"
   ]
  },
  {
   "cell_type": "markdown",
   "id": "2e2cf1a1-49ec-4241-9d65-7a63dc044398",
   "metadata": {
    "tags": []
   },
   "source": [
    "<div style=\"padding: 15px; border: 5px solid transparent; border-color: transparent; margin-bottom: 20px; border-radius: 4px; color: #3c763d; border-color: #d6e9c6; font-weight: bold;\">\n",
    "<h2 style='font-weight: bold'>3. 문자열</h2>\n",
    "</div> "
   ]
  },
  {
   "cell_type": "markdown",
   "id": "8978388c-a4cc-4629-81df-482452738764",
   "metadata": {
    "tags": []
   },
   "source": [
    "### 문자열 인덱싱"
   ]
  },
  {
   "cell_type": "markdown",
   "id": "be630f16-3032-4b86-be39-31c40243fefd",
   "metadata": {},
   "source": [
    "문자열(string)은 문자들의 나열로 이루어진 데이터 타입입니다.<br>\n",
    "작은 따옴표(' '), 큰 따옴표(\" \")로 둘러싸여 있습니다.\n",
    "\n",
    "문자열은 리스트와 마찬가지의 방법으로 특정 요소에 접근하고 슬라이싱 할 수 있습니다.<br>\n",
    "`문자열[인덱스]` 의 방법으로 요소에 접근할 수 있습니다.<br>\n",
    "`문자열[시작 인덱스:끝 인덱스]`의 방법으로 슬라이싱할 수 있습니다.<br>\n",
    "\n",
    "\n",
    "```python\n",
    "my_string = \"Hello, Python!\"\n",
    "print(my_string[0])      # 'H'\n",
    "print(my_string[7:13])   # 'Python'\n",
    "```"
   ]
  },
  {
   "cell_type": "markdown",
   "id": "fbdb3d2a-7539-4536-928d-7468b1ec8feb",
   "metadata": {},
   "source": [
    "**예제 11 : 문자열 요소 접근 및 슬라이싱**"
   ]
  },
  {
   "cell_type": "code",
   "execution_count": 18,
   "id": "1d02d46d-83a2-4f73-8588-f0b889cdd4b8",
   "metadata": {
    "tags": []
   },
   "outputs": [
    {
     "name": "stdout",
     "output_type": "stream",
     "text": [
      "H\n",
      "Python\n"
     ]
    }
   ],
   "source": [
    "# 예제_11_문자열_요소_접근_및_슬라이싱\n",
    "\n",
    "my_string = \"Hello, Python!\"\n",
    "print(my_string[0])      # 'H'\n",
    "print(my_string[7:13])   # 'Python'"
   ]
  },
  {
   "cell_type": "markdown",
   "id": "71433973-fb20-4776-bce0-8e50cbc86601",
   "metadata": {
    "tags": []
   },
   "source": [
    "<div style=\"padding: 15px; border: 5px solid transparent; border-color: transparent; margin-bottom: 20px; border-radius: 4px; color: #3c763d; border-color: #d6e9c6; font-weight: bold;\">\n",
    "<h2 style='font-weight: bold'>프로젝트</h2>\n",
    "숫자 야구 게임에서 입력된 정답을 기록해봅시다.\n",
    "</div> "
   ]
  },
  {
   "cell_type": "markdown",
   "id": "994bda9e-961a-4852-83bc-d323ff75c26c",
   "metadata": {},
   "source": [
    "숫자 야구에서는 앞선 차례에서 받은 힌트를 기반으로 값을 예측합니다.<br>\n",
    "그래서 플레이어가 앞선 차례의 기록들을 확인할 수 있도록 하는 것은 중요합니다.<br>\n",
    "이번 시간에는 플레이어가 입력한 정답과 그 결과를 저장하는 시스템을 만드는 것을 목표로 합니다.<br>\n",
    "\n",
    "**목표:**\n",
    "플레이어가 입력한 값과 그 결과를 리스트로 저장한다.\n",
    "\n",
    "**참고사항:**\n",
    "- 결과(스트라이크, 볼)를 계산하는 코드는 아직 만들지 않았으니 임의로 결과를 저장합니다.\n",
    "- 결과가 제대로 저장되는 것을 확인하기 위해서 최소 3번의 입력을 받습니다.\n",
    "- 플레이어가 입력한 값은 history 리스트에 저장하고 결과는 result 리스트에 저장합니다.\n",
    "- 각 차례의 결과는 [Strike값, ball값]의 리스트로 저장합니다. ex) 1스트라이크 2볼 일 경우 [1,2] 로 저장\n",
    "\n",
    "<table>\n",
    "<tr>\n",
    "    <th>\n",
    "        <img src=\"https://tmn-bucket-materials-all.s3.ap-northeast-2.amazonaws.com/image/dissac/dissac_nepes_4_04_01.png\" width=\"750\"></th>\n",
    "<tr>\n",
    "    <th>프로젝트 목표</th>\n",
    "</tr>\n",
    "</table>"
   ]
  },
  {
   "cell_type": "code",
   "execution_count": null,
   "id": "256a58ee-f85f-48ab-b525-cc91b698f274",
   "metadata": {
    "error_code": "answer = \"369\"\n\nhistory = []\nresult = []\n\nprint(\"1번째 이닝입니다.(1/9)\")\nplayer = input(\"정답을 입력해주세요\")\nhistory.append(player)\nresult.append([1,1])\nprint(\"입력한 정답은 \", player, \" 입니다.\")\nprint(\"1 스트라이크, 1볼 입니다.\")\nprint(\"지금까지의 기록입니다 : \", history, result)\nprint(\"-\"*50)\n\nprint(\"2번째 이닝입니다.(2/9)\")\nplayer = input(\"정답을 입력해주세요\")\nhistory.append(player)\nresult.append([0,1])\nprint(\"입력한 정답은 \", player, \" 입니다.\")\nprint(\"0 스트라이크, 1볼 입니다.\")\nprint(\"지금까지의 기록입니다 : \", history, result)\nprint(\"-\"*50)\n\nprint(\"3번째 이닝입니다.(3/9)\")\nplayer = input(\"정답을 입력해주세요\")\nhistory.append(player)\nresult.append([0,0])\nprint(\"입력한 정답은 \", player, \" 입니다.\")\nprint(\"아웃입니다.\")\nprint(\"지금까지의 기록입니다 : \", history, result)",
    "tags": []
   },
   "outputs": [],
   "source": [
    "# 참고 코드\n",
    "\n",
    "print(\"1번째 이닝입니다.(1/9)\") # 이닝 안내 코드\n",
    "player = input(\"정답을 입력해주세요\") # 입력값 받아오기\n",
    "# TODO : history에 입력값 기록하기\n",
    "# TODO : result에 결과값 기록하기\n",
    "print(\"입력한 정답은 \", player, \" 입니다.\") # 입력값 출력하기\n",
    "print(\"1 스트라이크, 1볼 입니다.\") # 결과 출력하기(임의)\n",
    "# TODO : 지금까지의 결과 출력\n",
    "print(\"-\"*50) # 구분선"
   ]
  },
  {
   "cell_type": "code",
   "execution_count": null,
   "id": "2bda128f-0129-45d1-b753-6791dc4b2db2",
   "metadata": {
    "error_code": "answer = \"369\"\n\nhistory = []\nresult = []\n\nprint(\"1번째 이닝입니다.(1/9)\")\nplayer = input(\"정답을 입력해주세요\")\nhistory.append(player)\nresult.append([1,1])\nprint(\"입력한 정답은 \", player, \" 입니다.\")\nprint(\"1 스트라이크, 1볼 입니다.\")\nprint(\"지금까지의 기록입니다 : \", history, result)\nprint(\"-\"*50)\n\nprint(\"2번째 이닝입니다.(2/9)\")\nplayer = input(\"정답을 입력해주세요\")\nhistory.append(player)\nresult.append([0,1])\nprint(\"입력한 정답은 \", player, \" 입니다.\")\nprint(\"0 스트라이크, 1볼 입니다.\")\nprint(\"지금까지의 기록입니다 : \", history, result)\nprint(\"-\"*50)\n\nprint(\"3번째 이닝입니다.(3/9)\")\nplayer = input(\"정답을 입력해주세요\")\nhistory.append(player)\nresult.append([0,0])\nprint(\"입력한 정답은 \", player, \" 입니다.\")\nprint(\"아웃입니다.\")\nprint(\"지금까지의 기록입니다 : \", history, result)",
    "tags": []
   },
   "outputs": [],
   "source": [
    "# 정답코드\n",
    "answer = \"369\"\n",
    "\n",
    "history = []\n",
    "result = []\n",
    "\n",
    "print(\"1번째 이닝입니다.(1/9)\")\n",
    "player = input(\"정답을 입력해주세요\")\n",
    "history.append(player)\n",
    "result.append([1,1])\n",
    "print(\"입력한 정답은 \", player, \" 입니다.\")\n",
    "print(\"1 스트라이크, 1볼 입니다.\")\n",
    "print(\"지금까지의 기록입니다 : \", history, result)\n",
    "print(\"-\"*50)\n",
    "\n",
    "print(\"2번째 이닝입니다.(2/9)\")\n",
    "player = input(\"정답을 입력해주세요\")\n",
    "history.append(player)\n",
    "result.append([0,1])\n",
    "print(\"입력한 정답은 \", player, \" 입니다.\")\n",
    "print(\"0 스트라이크, 1볼 입니다.\")\n",
    "print(\"지금까지의 기록입니다 : \", history, result)\n",
    "print(\"-\"*50)\n",
    "\n",
    "print(\"3번째 이닝입니다.(3/9)\")\n",
    "player = input(\"정답을 입력해주세요\")\n",
    "history.append(player)\n",
    "result.append([0,0])\n",
    "print(\"입력한 정답은 \", player, \" 입니다.\")\n",
    "print(\"아웃입니다.\")\n",
    "print(\"지금까지의 기록입니다 : \", history, result)"
   ]
  }
 ],
 "metadata": {
  "kernelspec": {
   "display_name": "Python 3 (ipykernel)",
   "language": "python",
   "name": "python3"
  },
  "language_info": {
   "codemirror_mode": {
    "name": "ipython",
    "version": 3
   },
   "file_extension": ".py",
   "mimetype": "text/x-python",
   "name": "python",
   "nbconvert_exporter": "python",
   "pygments_lexer": "ipython3",
   "version": "3.10.12"
  }
 },
 "nbformat": 4,
 "nbformat_minor": 5
}
